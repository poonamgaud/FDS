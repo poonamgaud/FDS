{
 "cells": [
  {
   "cell_type": "markdown",
   "id": "444742ce",
   "metadata": {},
   "source": [
    "# List\n"
   ]
  },
  {
   "cell_type": "code",
   "execution_count": null,
   "id": "5ee14dde",
   "metadata": {},
   "outputs": [],
   "source": [
    "Lists are used store multiple item in a single varible.\n",
    "Lists are one of 4 built-in data type in python used to Store Collection of data"
   ]
  },
  {
   "cell_type": "code",
   "execution_count": 3,
   "id": "111a14be",
   "metadata": {},
   "outputs": [
    {
     "data": {
      "text/plain": [
       "[1, 'Rice', 2, 5]"
      ]
     },
     "execution_count": 3,
     "metadata": {},
     "output_type": "execute_result"
    }
   ],
   "source": [
    "#list  with mixed data type\n",
    "my_list=[1,'Rice',2,5]\n",
    "my_list"
   ]
  },
  {
   "cell_type": "code",
   "execution_count": 7,
   "id": "d3ae9a3b",
   "metadata": {},
   "outputs": [
    {
     "data": {
      "text/plain": [
       "['m']"
      ]
     },
     "execution_count": 7,
     "metadata": {},
     "output_type": "execute_result"
    }
   ],
   "source": [
    "name,price,code=[\"maggie\",[10,75,150],[\"m\"]]\n",
    "name\n",
    "price\n",
    "code\n"
   ]
  },
  {
   "cell_type": "code",
   "execution_count": 8,
   "id": "a958b352",
   "metadata": {},
   "outputs": [
    {
     "data": {
      "text/plain": [
       "[10, 75, 150]"
      ]
     },
     "execution_count": 8,
     "metadata": {},
     "output_type": "execute_result"
    }
   ],
   "source": [
    "price\n"
   ]
  },
  {
   "cell_type": "code",
   "execution_count": 9,
   "id": "d743b27d",
   "metadata": {},
   "outputs": [
    {
     "data": {
      "text/plain": [
       "'maggie'"
      ]
     },
     "execution_count": 9,
     "metadata": {},
     "output_type": "execute_result"
    }
   ],
   "source": [
    "name"
   ]
  },
  {
   "cell_type": "code",
   "execution_count": 14,
   "id": "10ec4983",
   "metadata": {},
   "outputs": [
    {
     "data": {
      "text/plain": [
       "['happy', [2, 0, 1, 4]]"
      ]
     },
     "execution_count": 14,
     "metadata": {},
     "output_type": "execute_result"
    }
   ],
   "source": [
    "n_list=[\"happy\",[2,0,1,4]]\n",
    "n_list"
   ]
  },
  {
   "cell_type": "code",
   "execution_count": 15,
   "id": "b93e4b93",
   "metadata": {},
   "outputs": [
    {
     "name": "stdout",
     "output_type": "stream",
     "text": [
      "p\n"
     ]
    }
   ],
   "source": [
    "print(n_list[0][2])\n"
   ]
  },
  {
   "cell_type": "markdown",
   "id": "ec439b49",
   "metadata": {},
   "source": [
    "# Negative index"
   ]
  },
  {
   "cell_type": "code",
   "execution_count": 16,
   "id": "cf906544",
   "metadata": {},
   "outputs": [],
   "source": [
    "my_list =['poonam','neha','niraj','ganesh','nik']"
   ]
  },
  {
   "cell_type": "code",
   "execution_count": 19,
   "id": "1c17bf5a",
   "metadata": {},
   "outputs": [
    {
     "name": "stdout",
     "output_type": "stream",
     "text": [
      "nik\n"
     ]
    }
   ],
   "source": [
    "print(my_list[-1])"
   ]
  },
  {
   "cell_type": "code",
   "execution_count": 20,
   "id": "1685fb5a",
   "metadata": {},
   "outputs": [
    {
     "name": "stdout",
     "output_type": "stream",
     "text": [
      "poonam\n"
     ]
    }
   ],
   "source": [
    "print(my_list[-5])"
   ]
  },
  {
   "cell_type": "code",
   "execution_count": null,
   "id": "4cc33bef",
   "metadata": {},
   "outputs": [],
   "source": [
    "my_list=[len('poonam','neha','niraj','ganesh','nik')]"
   ]
  },
  {
   "cell_type": "code",
   "execution_count": 21,
   "id": "01ad802a",
   "metadata": {},
   "outputs": [
    {
     "data": {
      "text/plain": [
       "[4, 6, 8]"
      ]
     },
     "execution_count": 21,
     "metadata": {},
     "output_type": "execute_result"
    }
   ],
   "source": [
    "odd=[2,4,6,8]\n",
    "odd[0]=1\n",
    "odd[1:4]"
   ]
  },
  {
   "cell_type": "code",
   "execution_count": 31,
   "id": "37071643",
   "metadata": {},
   "outputs": [
    {
     "name": "stdout",
     "output_type": "stream",
     "text": [
      "[1, 3, 5, 7, [3, 5, 7], 7, 7, 8]\n"
     ]
    }
   ],
   "source": [
    "odd[1:4]=[3,5,7]\n",
    "print(odd)"
   ]
  },
  {
   "cell_type": "code",
   "execution_count": 29,
   "id": "857b97b1",
   "metadata": {},
   "outputs": [
    {
     "name": "stdout",
     "output_type": "stream",
     "text": [
      "[1, 3, 5, 7, 7, 7, 7, 8]\n"
     ]
    }
   ],
   "source": [
    "odd.extend([8])\n",
    "print(odd)"
   ]
  },
  {
   "cell_type": "code",
   "execution_count": 32,
   "id": "20c90067",
   "metadata": {},
   "outputs": [
    {
     "name": "stdout",
     "output_type": "stream",
     "text": [
      "[1, 3, 5, 7, [3, 5, 7], 7, 7, 8, 7]\n"
     ]
    }
   ],
   "source": [
    "odd.append(7)\n",
    "print(odd)"
   ]
  },
  {
   "cell_type": "code",
   "execution_count": 37,
   "id": "7497ee23",
   "metadata": {},
   "outputs": [
    {
     "data": {
      "text/plain": [
       "[1, 9, 7, 3, 2, 5]"
      ]
     },
     "execution_count": 37,
     "metadata": {},
     "output_type": "execute_result"
    }
   ],
   "source": [
    "a=[1,9,7]\n",
    "b=[3,2,5]\n",
    "a+b"
   ]
  },
  {
   "cell_type": "code",
   "execution_count": 40,
   "id": "6db9b148",
   "metadata": {},
   "outputs": [
    {
     "name": "stdout",
     "output_type": "stream",
     "text": [
      "['poonam', 'janhavi', 'joyti', 'vishu']\n"
     ]
    }
   ],
   "source": [
    "my_list=[\"poonam\",\"janhavi\",\"sapna\",\"joyti\",\"vishu\"]\n",
    "my_list.remove(\"sapna\")\n",
    "print(my_list)"
   ]
  },
  {
   "cell_type": "code",
   "execution_count": 41,
   "id": "bd833769",
   "metadata": {},
   "outputs": [
    {
     "name": "stdout",
     "output_type": "stream",
     "text": [
      "joyti\n"
     ]
    }
   ],
   "source": [
    "print(my_list.pop(2))"
   ]
  },
  {
   "cell_type": "code",
   "execution_count": 42,
   "id": "50b2700e",
   "metadata": {},
   "outputs": [
    {
     "name": "stdout",
     "output_type": "stream",
     "text": [
      "vishu\n"
     ]
    }
   ],
   "source": [
    "print(my_list.pop())"
   ]
  },
  {
   "cell_type": "code",
   "execution_count": 44,
   "id": "c6928630",
   "metadata": {},
   "outputs": [
    {
     "name": "stdout",
     "output_type": "stream",
     "text": [
      "[]\n"
     ]
    }
   ],
   "source": [
    "my_list.clear()\n",
    "print(my_list)"
   ]
  },
  {
   "cell_type": "code",
   "execution_count": 47,
   "id": "3c783401",
   "metadata": {},
   "outputs": [
    {
     "name": "stdout",
     "output_type": "stream",
     "text": [
      "[0, 2, 4, 6, 8, 10, 12, 14, 16, 18]\n"
     ]
    }
   ],
   "source": [
    "pow2=[2* x for x in range(10)]\n",
    "print(pow2)"
   ]
  },
  {
   "cell_type": "code",
   "execution_count": 51,
   "id": "0fc76a8b",
   "metadata": {},
   "outputs": [
    {
     "name": "stdout",
     "output_type": "stream",
     "text": [
      "[1, 2, 4, 8, 16, 32, 64, 128, 256, 512]\n"
     ]
    }
   ],
   "source": [
    "pow2=[]\n",
    "for x in range(10):\n",
    " pow2.append(2** x)\n",
    "print(pow2)"
   ]
  },
  {
   "cell_type": "code",
   "execution_count": 52,
   "id": "f405d228",
   "metadata": {},
   "outputs": [
    {
     "name": "stdout",
     "output_type": "stream",
     "text": [
      "[1]\n",
      "[1, 2]\n",
      "[1, 2, 4]\n",
      "[1, 2, 4, 8]\n",
      "[1, 2, 4, 8, 16]\n",
      "[1, 2, 4, 8, 16, 32]\n",
      "[1, 2, 4, 8, 16, 32, 64]\n",
      "[1, 2, 4, 8, 16, 32, 64, 128]\n",
      "[1, 2, 4, 8, 16, 32, 64, 128, 256]\n",
      "[1, 2, 4, 8, 16, 32, 64, 128, 256, 512]\n"
     ]
    }
   ],
   "source": [
    "pow2=[]\n",
    "for x in range(10):\n",
    " pow2.append(2** x)\n",
    " print(pow2)"
   ]
  },
  {
   "cell_type": "code",
   "execution_count": 55,
   "id": "92de3dc9",
   "metadata": {},
   "outputs": [
    {
     "name": "stdout",
     "output_type": "stream",
     "text": [
      "True\n"
     ]
    }
   ],
   "source": [
    "my_list=[\"neha\",\"janhavi\",\"ganesh\",\"nik\"]\n",
    "print(\"neha\" in  my_list)"
   ]
  },
  {
   "cell_type": "code",
   "execution_count": 62,
   "id": "9bf65358",
   "metadata": {},
   "outputs": [
    {
     "name": "stdout",
     "output_type": "stream",
     "text": [
      "False\n"
     ]
    }
   ],
   "source": [
    "print(\"nik\" not in my_list)"
   ]
  },
  {
   "cell_type": "code",
   "execution_count": 63,
   "id": "0d099900",
   "metadata": {},
   "outputs": [
    {
     "name": "stdout",
     "output_type": "stream",
     "text": [
      "I Like apple\n",
      "I Like mangeo\n",
      "I Like banana\n"
     ]
    }
   ],
   "source": [
    "for fruit in ['apple','mangeo','banana']:\n",
    "    print(\"I Like\",fruit)"
   ]
  },
  {
   "cell_type": "markdown",
   "id": "60896aa8",
   "metadata": {},
   "source": [
    "# Tuple"
   ]
  },
  {
   "cell_type": "code",
   "execution_count": 67,
   "id": "495163dd",
   "metadata": {},
   "outputs": [
    {
     "name": "stdout",
     "output_type": "stream",
     "text": [
      "s\n",
      "4\n"
     ]
    }
   ],
   "source": [
    "n_tuple=(\"mouse\",[8,4,6],[1,2,4])\n",
    "print(n_tuple[0][3])\n",
    "print(n_tuple[1][1])"
   ]
  },
  {
   "cell_type": "markdown",
   "id": "4a9c2e2f",
   "metadata": {},
   "source": [
    "# Dictionary"
   ]
  },
  {
   "cell_type": "code",
   "execution_count": 70,
   "id": "a5142dcd",
   "metadata": {},
   "outputs": [
    {
     "ename": "SyntaxError",
     "evalue": "invalid syntax (Temp/ipykernel_3532/717334847.py, line 1)",
     "output_type": "error",
     "traceback": [
      "\u001b[1;36m  File \u001b[1;32m\"C:\\Users\\Admin\\AppData\\Local\\Temp/ipykernel_3532/717334847.py\"\u001b[1;36m, line \u001b[1;32m1\u001b[0m\n\u001b[1;33m    Python dictionary is an unordered collection of items.Each item of a dictionary has a key/value pair.\u001b[0m\n\u001b[1;37m           ^\u001b[0m\n\u001b[1;31mSyntaxError\u001b[0m\u001b[1;31m:\u001b[0m invalid syntax\n"
     ]
    }
   ],
   "source": [
    "Python dictionary is an unordered collection of items. Each item of a dictionary has a key/value pair.\n",
    "Dictionary are otimized to retrieve values the key is known."
   ]
  },
  {
   "cell_type": "markdown",
   "id": "ee39b5f4",
   "metadata": {},
   "source": [
    "# Creating python Dictionary"
   ]
  },
  {
   "cell_type": "code",
   "execution_count": null,
   "id": "fdafc17d",
   "metadata": {},
   "outputs": [],
   "source": [
    "Creating dictionary is as simple as placing items inside curly braces{} separated by commas.\n",
    "An item has a key and a corresponding value that is expressed as a pair(key:value).\n",
    "While the values can be of any data type and can repeat,key must be of immutable type(string),\n",
    "number or tuple "
   ]
  },
  {
   "cell_type": "code",
   "execution_count": 71,
   "id": "31222496",
   "metadata": {},
   "outputs": [
    {
     "name": "stdout",
     "output_type": "stream",
     "text": [
      "{1: 'apple', 2: 'ball'}\n"
     ]
    }
   ],
   "source": [
    "my_dict={1:'apple',2:'ball'}\n",
    "print(my_dict)"
   ]
  },
  {
   "cell_type": "code",
   "execution_count": 72,
   "id": "ed33da72",
   "metadata": {},
   "outputs": [
    {
     "name": "stdout",
     "output_type": "stream",
     "text": [
      "{1: 'apple', 2: 'ball'}\n"
     ]
    }
   ],
   "source": [
    "my_dict=({1:'apple',2:'ball'})\n",
    "print(my_dict)"
   ]
  },
  {
   "cell_type": "code",
   "execution_count": 75,
   "id": "fd46cddc",
   "metadata": {},
   "outputs": [
    {
     "name": "stdout",
     "output_type": "stream",
     "text": [
      "poonam\n"
     ]
    }
   ],
   "source": [
    "my_dict={'name':'poonam','age':21,'address':'bhandup'}\n",
    "print(my_dict['name'])"
   ]
  },
  {
   "cell_type": "code",
   "execution_count": 76,
   "id": "262a4a3a",
   "metadata": {},
   "outputs": [
    {
     "name": "stdout",
     "output_type": "stream",
     "text": [
      "21\n"
     ]
    }
   ],
   "source": [
    "print(my_dict['age'])"
   ]
  },
  {
   "cell_type": "code",
   "execution_count": 77,
   "id": "265f90b9",
   "metadata": {},
   "outputs": [
    {
     "name": "stdout",
     "output_type": "stream",
     "text": [
      "bhandup\n"
     ]
    }
   ],
   "source": [
    "print(my_dict['address'])"
   ]
  },
  {
   "cell_type": "code",
   "execution_count": 78,
   "id": "9ab28230",
   "metadata": {},
   "outputs": [
    {
     "name": "stdout",
     "output_type": "stream",
     "text": [
      "{'name': 'poonam', 'age': 23, 'address': 'bhandup'}\n"
     ]
    }
   ],
   "source": [
    "my_dict={'name':'poonam','age':21,'address':'bhandup'}\n",
    "my_dict['age']=23 #update\n",
    "print(my_dict)"
   ]
  },
  {
   "cell_type": "code",
   "execution_count": 81,
   "id": "57443b9f",
   "metadata": {},
   "outputs": [
    {
     "name": "stdout",
     "output_type": "stream",
     "text": [
      "{'name': 'poonam', 'age': 23, 'address': 'thane'}\n"
     ]
    }
   ],
   "source": [
    "my_dict['address']='thane'\n",
    "print(my_dict)"
   ]
  },
  {
   "cell_type": "code",
   "execution_count": 82,
   "id": "be825031",
   "metadata": {},
   "outputs": [
    {
     "name": "stdout",
     "output_type": "stream",
     "text": [
      "16\n"
     ]
    }
   ],
   "source": [
    "square ={1:1,2:4,3:9,4:16,5:25}\n",
    "print(square.pop(4))"
   ]
  },
  {
   "cell_type": "code",
   "execution_count": 83,
   "id": "3f7c2a74",
   "metadata": {},
   "outputs": [
    {
     "name": "stdout",
     "output_type": "stream",
     "text": [
      "{1: 1, 2: 4, 3: 9, 5: 25}\n"
     ]
    }
   ],
   "source": [
    "print(square)"
   ]
  },
  {
   "cell_type": "code",
   "execution_count": 84,
   "id": "2e110d63",
   "metadata": {},
   "outputs": [
    {
     "name": "stdout",
     "output_type": "stream",
     "text": [
      "25\n"
     ]
    }
   ],
   "source": [
    "print(square.pop(5))"
   ]
  },
  {
   "cell_type": "code",
   "execution_count": 85,
   "id": "5b15fc53",
   "metadata": {},
   "outputs": [
    {
     "name": "stdout",
     "output_type": "stream",
     "text": [
      "(3, 9)\n"
     ]
    }
   ],
   "source": [
    "print(square.popitem())"
   ]
  },
  {
   "cell_type": "code",
   "execution_count": 87,
   "id": "d3a8b55d",
   "metadata": {},
   "outputs": [
    {
     "name": "stdout",
     "output_type": "stream",
     "text": [
      "{'python': 0, 'Fds': 0, 'Ai': 0}\n"
     ]
    }
   ],
   "source": [
    "mark={}.fromkeys(['python','Fds','Ai'],0)\n",
    "print(mark)"
   ]
  },
  {
   "cell_type": "code",
   "execution_count": 88,
   "id": "ec37cb3a",
   "metadata": {},
   "outputs": [
    {
     "name": "stdout",
     "output_type": "stream",
     "text": [
      "('python', 0)\n",
      "('Fds', 0)\n",
      "('Ai', 0)\n"
     ]
    }
   ],
   "source": [
    "for item in mark.items():\n",
    "    print(item)"
   ]
  },
  {
   "cell_type": "code",
   "execution_count": 91,
   "id": "4b1086ca",
   "metadata": {},
   "outputs": [
    {
     "name": "stdout",
     "output_type": "stream",
     "text": [
      "dict_keys(['python', 'Fds', 'Ai'])\n"
     ]
    }
   ],
   "source": [
    "print(mark.keys())"
   ]
  },
  {
   "cell_type": "code",
   "execution_count": 92,
   "id": "659a5faa",
   "metadata": {},
   "outputs": [
    {
     "name": "stdout",
     "output_type": "stream",
     "text": [
      "{'python': 0, 'Fds': 0, 'Ai': 0}\n",
      "{'python': 0, 'Fds': 0, 'Ai': 0}\n",
      "{'python': 0, 'Fds': 0, 'Ai': 0}\n"
     ]
    }
   ],
   "source": [
    "for item in mark.items():\n",
    "    print(mark)"
   ]
  },
  {
   "cell_type": "code",
   "execution_count": null,
   "id": "dc69ca7c",
   "metadata": {},
   "outputs": [],
   "source": []
  }
 ],
 "metadata": {
  "kernelspec": {
   "display_name": "Python 3 (ipykernel)",
   "language": "python",
   "name": "python3"
  },
  "language_info": {
   "codemirror_mode": {
    "name": "ipython",
    "version": 3
   },
   "file_extension": ".py",
   "mimetype": "text/x-python",
   "name": "python",
   "nbconvert_exporter": "python",
   "pygments_lexer": "ipython3",
   "version": "3.9.7"
  }
 },
 "nbformat": 4,
 "nbformat_minor": 5
}
